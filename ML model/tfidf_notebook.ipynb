{
 "cells": [
  {
   "cell_type": "code",
   "execution_count": 1,
   "metadata": {
    "scrolled": false
   },
   "outputs": [
    {
     "name": "stdout",
     "output_type": "stream",
     "text": [
      "/root/pan20-celebrity-profiling-supplement-dataset-2020-02-28.zip\n",
      "/root/celebrity_profiling_training-dataset_subset_2.csv\n",
      "/root/Data Clearning_PreProcessing.ipynb\n",
      "/root/.profile\n",
      "/root/.bashrc\n",
      "/root/.bash_history\n",
      "/root/Team 12_ndjson_to_csv.ipynb\n",
      "/root/glove.6B.50d.txt\n",
      "/root/celebrity_profiling_training_after_preprocessing_5_tweets_2.csv\n",
      "/root/prediction_BERT.ipynb\n",
      "/root/glove.6B.200d.txt.filepart\n",
      "/root/celebrity_profiling_training-dataset_subset_5_tweets.csv\n",
      "/root/pan20-celebrity-profiling-training-dataset-2020-02-28.zip\n",
      "/root/celebrity_profiling_training_after_preprocessing_5_tweets.csv\n",
      "/root/Neural Network.ipynb\n",
      "/root/tfidf_notebook.ipynb\n",
      "/root/celebrity_profiling_training_after_preprocessing.csv\n",
      "/root/pan20-celebrity-profiling-supplement-dataset-2020-02-28/celebrity-feeds.ndjson\n",
      "/root/pan20-celebrity-profiling-supplement-dataset-2020-02-28/follower-feeds.ndjson\n",
      "/root/pan20-celebrity-profiling-supplement-dataset-2020-02-28/labels.ndjson\n",
      "/root/.pytorch_pretrained_bert/26bc1ad6c0ac742e9b52263248f6d0f00068293b33709fae12320c0e35ccfbbb.542ce4285a40d23a559526243235df47c5f75c197f04f37d1a0c124c32c9a084\n",
      "/root/.pytorch_pretrained_bert/26bc1ad6c0ac742e9b52263248f6d0f00068293b33709fae12320c0e35ccfbbb.542ce4285a40d23a559526243235df47c5f75c197f04f37d1a0c124c32c9a084.json\n",
      "/root/.ipython/profile_default/history.sqlite\n",
      "/root/.ipython/profile_default/history.sqlite-journal\n",
      "/root/.ipython/profile_default/startup/README\n",
      "/root/.local/share/Trash/files/Team 12_ndjson_to_csv-Copy1.ipynb\n",
      "/root/.local/share/Trash/files/tfidf-notebook.ipynb\n",
      "/root/.local/share/Trash/info/Team 12_ndjson_to_csv-Copy1.ipynb.trashinfo\n",
      "/root/.local/share/Trash/info/tfidf-notebook.ipynb.trashinfo\n",
      "/root/.local/share/jupyter/notebook_secret\n",
      "/root/.local/share/jupyter/nbsignatures.db\n",
      "/root/.local/share/jupyter/runtime/notebook_cookie_secret\n",
      "/root/.local/share/jupyter/runtime/kernel-605570e3-1095-4234-afd0-3a124b1e22d4.json\n",
      "/root/.local/share/jupyter/runtime/kernel-11d84cc4-8bbb-40f6-abdb-53975d80409f.json\n",
      "/root/.local/share/jupyter/runtime/kernel-91af24ac-9742-4c2a-93b7-4dc2fe426b5a.json\n",
      "/root/.local/share/jupyter/runtime/kernel-0100e1bd-ad3d-47ab-bef5-ff7c245d81f8.json\n",
      "/root/.local/share/jupyter/runtime/kernel-cf34fcea-fc1a-400f-a7fb-f740bac84c00.json\n",
      "/root/.local/share/jupyter/runtime/kernel-0b7d861e-46e1-46c1-aeae-72b87bda3e89.json\n",
      "/root/.local/share/jupyter/runtime/nbserver-352.json\n",
      "/root/.local/share/jupyter/runtime/nbserver-222.json\n",
      "/root/.local/share/jupyter/runtime/nbserver-470.json\n",
      "/root/.local/share/jupyter/runtime/kernel-4a287762-b934-4639-98b9-538d7dcd8856.json\n",
      "/root/.local/share/jupyter/runtime/nbserver-435.json\n",
      "/root/.local/share/jupyter/runtime/nbserver-322.json\n",
      "/root/.local/share/jupyter/runtime/nbserver-272.json\n",
      "/root/.local/share/jupyter/runtime/nbserver-673.json\n",
      "/root/.local/share/jupyter/runtime/kernel-b6ebcb88-d623-435d-8198-39e1a92bd6a0.json\n",
      "/root/.local/share/jupyter/runtime/nbserver-503.json\n",
      "/root/.ipynb_checkpoints/Data Clearning_PreProcessing-checkpoint.ipynb\n",
      "/root/.ipynb_checkpoints/tfidf_notebook-checkpoint.ipynb\n",
      "/root/.ipynb_checkpoints/Neural Network-checkpoint.ipynb\n",
      "/root/.ipynb_checkpoints/prediction_BERT-checkpoint.ipynb\n",
      "/root/.ipynb_checkpoints/Team 12_ndjson_to_csv-checkpoint.ipynb\n",
      "/root/.config/htop/htoprc\n",
      "/root/.cache/pip/selfcheck.json\n",
      "/root/.cache/pip/selfcheck/ab2bb442149194bcbab5700d8f932112632ba9320db09910f4a4422b\n",
      "/root/.cache/pip/wheels/6e/9c/ed/4499c9865ac1002697793e0ae05ba6be33553d098f3347fb94/future-0.18.2-py3-none-any.whl\n",
      "/root/.cache/pip/wheels/a4/9b/d5/85705a7ab783cd6f7bd718f01d3b1396272f30044e3c36401a/smart_open-2.1.0-py3-none-any.whl\n",
      "/root/.cache/pip/wheels/22/95/98/a21ffcc81fac65949a085ceff9dca4a145a32d9bbfcbf1cb31/emoji-0.5.4-py3-none-any.whl\n",
      "/root/.cache/pip/wheels/32/42/7f/23cae9ff6ef66798d00dc5d659088e57dbba01566f6c60db63/wrapt-1.12.1-cp36-cp36m-linux_x86_64.whl\n",
      "/root/.cache/pip/wheels/93/2a/eb/e58dbcbc963549ee4f065ff80a59f274cc7210b6eab962acdc/termcolor-1.1.0-py3-none-any.whl\n",
      "/root/.cache/pip/wheels/c3/af/84/3962a6af7b4ab336e951b7877dcfb758cf94548bb1771e0679/absl_py-0.9.0-py3-none-any.whl\n",
      "/root/.cache/pip/http/b/b/8/7/6/bb876b2e6a22c2739002e9ef3388ae978b7a6192a19fe67d8b0030f2\n",
      "/root/.cache/pip/http/b/2/6/c/b/b26cb16cea62cf756e4cb2039503c1dd90244d5a100e5531313f36da\n",
      "/root/.cache/pip/http/b/6/7/1/d/b671d6236bca1658c0758e354cbbe2ef31b262e027543f80e8b2c65f\n",
      "/root/.cache/pip/http/b/f/2/6/9/bf26970299df8c5912c2e19e38624142f0600d4ccc9b29cbe425b52e\n",
      "/root/.cache/pip/http/b/f/9/3/f/bf93f3f92439b5ad6d4e0822409db2c0a844ba201e8cc6bc01c262ad\n",
      "/root/.cache/pip/http/2/e/8/a/e/2e8aeb758c5c6b860c1f9f008a86bc6e99781e69743af720d8569e07\n",
      "/root/.cache/pip/http/2/e/5/b/6/2e5b6ced06806dcc8a76919087cfc0d76c4240a8acb8d34511ad15d6\n",
      "/root/.cache/pip/http/2/9/c/5/d/29c5d86315aeca6cdbb4bc6c7361ec9f847b56826a8b4211f3cd7bab\n",
      "/root/.cache/pip/http/2/4/a/d/a/24ada92f3f1257f1ddf4821569bbdb73de69c990c833cf307a1a5c26\n",
      "/root/.cache/pip/http/8/1/e/0/7/81e073b7913041496ffe0cdecc15327a8932154208d7bc06d37c0125\n",
      "/root/.cache/pip/http/8/1/3/c/c/813cc7096c25ba43edba14a4ab40832db33af638c43e975795995aec\n",
      "/root/.cache/pip/http/8/8/1/a/d/881adb62a593fbdc521a5f13c5f6ef70e6fa0344a95806cbf62d4f42\n",
      "/root/.cache/pip/http/8/0/c/5/3/80c53fecb34df2abdf90acb26fd7bac539add717dddfc16335cc7916\n",
      "/root/.cache/pip/http/8/3/e/b/1/83eb196be60370617dd7d9e616788c4ab97573073f1ccd00aed6fc10\n",
      "/root/.cache/pip/http/5/7/f/0/f/57f0f7a8839e9839a37a0273266efbce6bfdfc3b330e14d1c7696b83\n",
      "/root/.cache/pip/http/5/7/a/8/2/57a829917666118995d1e64d2f8864efebc231e34af6f37fdf132217\n",
      "/root/.cache/pip/http/5/3/d/5/a/53d5a5c892548f659fd6106b1ed1f691a08092091e38f1cd84d0068d\n",
      "/root/.cache/pip/http/5/9/8/4/2/59842a40b98b3d31bbdb79edc03c752570af4c0d795a3b6ec9f685b2\n",
      "/root/.cache/pip/http/5/a/0/e/8/5a0e822c64c6d1f33f153767105760052e23ef8293f8ec21cf53e92b\n",
      "/root/.cache/pip/http/5/6/0/6/4/56064064ea0cf220182a91809325f9d0c213d1b5e1b9851cd69b2e95\n",
      "/root/.cache/pip/http/5/b/e/4/6/5be46c950a7f8c2c11df3d6c207c399788562b912135e59e8a4c2962\n",
      "/root/.cache/pip/http/5/2/8/b/7/528b7cf7a817d7a3e28fbf1a2b68305d313d24f70c86c06bf500271c\n",
      "/root/.cache/pip/http/5/e/0/0/3/5e003eb619d9b588fca7c4894cf2b14e3e7e879a5a591d8639a9e7dc\n",
      "/root/.cache/pip/http/e/4/5/0/0/e4500a5a1d3f2690f3e82a996da47e10b9c2aa1567f004afbebaa690\n",
      "/root/.cache/pip/http/e/d/8/1/5/ed815867901506f08583e8ddff42e720c92e74d7831a1b519ac17484\n",
      "/root/.cache/pip/http/e/d/2/5/d/ed25d1bb38edf83d84e0a08c7e2111da8cb788eddb019df7a96d3213\n",
      "/root/.cache/pip/http/e/a/c/6/1/eac61126daf80149d2a016f12a54eab5e3b5c1dbc77410ff1a97edc4\n",
      "/root/.cache/pip/http/e/a/9/7/9/ea979433d5b106fd04cd23d8739a33c585dbe2ecb47dd49b3673c562\n",
      "/root/.cache/pip/http/e/b/7/a/6/eb7a6998b3d892fe2527ceb45b33b90eefe10380827f8a7b41b2b0c6\n",
      "/root/.cache/pip/http/a/6/9/b/d/a69bdb984343de3b3653d7a852dbd14dd4ccdd03ced4b06d1352ba0b\n",
      "/root/.cache/pip/http/a/6/4/a/a/a64aa13427619eb892d600333927bcb0e73bf177d9fc5b2e29d73303\n",
      "/root/.cache/pip/http/a/a/d/0/e/aad0e03285cb2ebd2412a7e9897cc3d114fe3fe7cfc1c55065fc7e2e\n",
      "/root/.cache/pip/http/a/1/9/5/3/a19537d3cf37c122db841d6fe4cd322bc10d1a558bb00d146b85cb9a\n",
      "/root/.cache/pip/http/a/8/2/f/f/a82ff74c9b9fedc0cced3be979552be32502189ca6f93646ef393826\n",
      "/root/.cache/pip/http/a/2/b/0/e/a2b0e066d350c31b628920e7c91c5968994708d8bdfc5c13a7f53573\n",
      "/root/.cache/pip/http/a/c/6/1/6/ac6167729029570373ae3f9baebd167749c369cadcff6c94c29face4\n",
      "/root/.cache/pip/http/1/8/1/7/b/1817b5bc5039c6679baf47b29098f631151ad8656c21ecc9cf8b7c8e\n",
      "/root/.cache/pip/http/1/6/9/3/2/1693297fb9daf7bfe370bf51d371acfeb8ff40759bf8650dfd404ba4\n",
      "/root/.cache/pip/http/1/f/3/6/e/1f36e4fb24023fde97b032397872135c7514eeb07753ac9e6c41bfd9\n",
      "/root/.cache/pip/http/1/a/6/0/b/1a60b47b2b1de33829d66271c00c25d1f0654fcfefef8d9af5c1d14a\n",
      "/root/.cache/pip/http/1/1/5/d/5/115d5f1efa174f890b3ca6faa26c0b1eb9f281f36eebd878a9ea1e72\n",
      "/root/.cache/pip/http/1/1/3/f/4/113f4ba67976e4431d8323f1b6a9f5467ff155d3ede132655802d41a\n",
      "/root/.cache/pip/http/6/6/a/7/6/66a7606e7b944a8f0a8da37b2533554f638e1e15fc0d0e1835bb0fdc\n",
      "/root/.cache/pip/http/6/c/4/d/6/6c4d653943c070d5934962aa650875e92956eec14e87cf595d12805f\n",
      "/root/.cache/pip/http/6/3/8/7/e/6387e2d524879b5f5f2755fc4c0b5dfebaf153d0376acbeb98e2e674\n",
      "/root/.cache/pip/http/f/1/6/0/9/f1609c85a65483d321a32276ece51f3ce3b22d0d20c4e61219fcb314\n",
      "/root/.cache/pip/http/f/6/8/3/d/f683d0a5f7d73a5bc87666d54c3875737ca85bab08e72c2de928a1e6\n",
      "/root/.cache/pip/http/f/b/e/f/6/fbef6b1c67afbc2e6b39f5e54edae6173b7741230b79ad32a4ad3da4\n",
      "/root/.cache/pip/http/f/e/d/0/e/fed0ed508030b766d5b0c2792132c8bf197804464765b46b361f93a4\n",
      "/root/.cache/pip/http/f/0/8/c/1/f08c12f212f7c0ab5a11d4c143f95fe93e4cf7ccffe9a02f0c796167\n",
      "/root/.cache/pip/http/f/4/6/2/1/f46210f1e9761884521a018767a1974bf6799ba960909f5cbb7ec381\n",
      "/root/.cache/pip/http/f/d/c/0/c/fdc0c37defe2e863a9471fc98c1727b4d5bde6b984510f6cf5469324\n",
      "/root/.cache/pip/http/d/6/3/b/3/d63b3263a620e99b23b4f69598defad34ecb501ae5ca54e4dac695dd\n",
      "/root/.cache/pip/http/d/6/3/4/a/d634aa1d1cc4c2af9598e7abbd2af1a50e4fd75e96d411dcf4bdc17e\n",
      "/root/.cache/pip/http/d/1/d/5/7/d1d5775c990babfdacee26e9f324fcfa4b02b65aa3f788044b773006\n",
      "/root/.cache/pip/http/d/0/5/0/7/d0507ab86ae613a8ed12915310975a60209a9cc83a4d529309cf2553\n",
      "/root/.cache/pip/http/d/0/8/2/f/d082fb388c8b882444be5a4252128330b6bf51b330eaa55f826bea0e\n",
      "/root/.cache/pip/http/d/0/4/8/b/d048b03f6775b5c46d77273492cc83d772604492debcfc9ac1868d22\n",
      "/root/.cache/pip/http/d/c/b/3/f/dcb3fcb6a3ed619a70279596aa78642ea6f368351a81bd0da5969f81\n",
      "/root/.cache/pip/http/d/d/1/8/4/dd184d596866b2fadd0149d1dce87ed0a975ba1f0cc13f07ce3a95ac\n",
      "/root/.cache/pip/http/4/3/8/7/9/43879d41827ea8935cda461f81075d30d993adf6595e952982bdc8a1\n",
      "/root/.cache/pip/http/4/3/7/4/d/4374db2dad7a8fb0f740927aa8b73cd505232c538ba96acd90bf0e9a\n",
      "/root/.cache/pip/http/4/2/5/9/7/42597630e4d00f4616f5d6839373a0197aa50e18cb00cb41d09873e1\n",
      "/root/.cache/pip/http/4/f/9/9/8/4f998b9cee6f9f9df567958651de14bbc10cf5300294c925a1b437a2\n",
      "/root/.cache/pip/http/4/6/4/6/9/46469ba340de5f69b4b8e5be9e28e5c2b072a3d4d593626201a825b4\n",
      "/root/.cache/pip/http/4/6/f/d/c/46fdc2f2aad758ca628097c56717d9d2d7c79cfd5dfd0995b76b6968\n",
      "/root/.cache/pip/http/4/6/2/3/2/46232c8108a4b9116f89e635ed1f524969c54191e0af75bcc171c1ab\n",
      "/root/.cache/pip/http/4/1/e/b/6/41eb6f8909f2ba8d7aa7427f646fbfa72ec8f11edf87da33782aa484\n",
      "/root/.cache/pip/http/4/a/9/5/8/4a958e02d92a5370a741631c62388747ba5d51d5d7870694efa991c8\n",
      "/root/.cache/pip/http/9/e/f/f/9/9eff9052259fcda73036aeea380253ff54c7b88dcef15e94f293db41\n",
      "/root/.cache/pip/http/9/f/2/9/2/9f292e59213099651b5fcfd03d5cd2be236234e87bcc0df5dbd85d73\n",
      "/root/.cache/pip/http/9/1/c/e/7/91ce7207f0e2688c725f5948ca7d56a6dfd1afa303f1db238eaf6879\n",
      "/root/.cache/pip/http/9/3/5/f/0/935f0d2e534766430ea25ff8c2b29c7c1722a9a7f9fb53b07742711c\n",
      "/root/.cache/pip/http/9/c/0/4/5/9c04545010c7151e82242bbabcaafe3211f4ea1902fc5037f63a752b\n",
      "/root/.cache/pip/http/9/d/3/6/f/9d36fe8d3a41a35727fb7f68eafad07bda4a60ce34cb29d9a7c8fffa\n",
      "/root/.cache/pip/http/9/4/4/8/b/9448bbd2a6d85f7b43ee61e5caf851f4ae626b15fedc8c7b562a77b9\n",
      "/root/.cache/pip/http/9/4/2/b/0/942b084b3023252238d1e8de08a76f9cc057185eb8218568cfe9de88\n",
      "/root/.cache/pip/http/9/0/4/1/6/90416d84ba90116a093194c65ea7196124a90a1f74311cfc3d8fff87\n",
      "/root/.cache/pip/http/3/d/e/2/b/3de2b409813546177402d5e41d8be80772e7ce3f406b4dfa4e5f3fe6\n",
      "/root/.cache/pip/http/3/7/7/d/b/377db711f04c2c5d391df795633c94a8144c11aaaa8dc84653d47b62\n",
      "/root/.cache/pip/http/3/8/6/0/e/3860e4de9ae53c79d2fd61419e9049df314ccc8b640782c02c6e2e2d\n",
      "/root/.cache/pip/http/3/e/4/5/2/3e452bf333df8ab434b237eb8b1e3beee7a01b16817f3cf5b8996639\n",
      "/root/.cache/pip/http/3/e/2/f/e/3e2febac4c5f0a191d9cab7d5abf80bd1cbf684e88c2d9d87fb72844\n",
      "/root/.cache/pip/http/3/5/3/8/0/353804fb5c9ac91db4f03956a3d4b71568ad650427ded1640d0848b4\n",
      "/root/.cache/pip/http/3/a/7/f/f/3a7ff988ef550935f8b5bac93f3c401cb0108edeb6faf42037b20923\n",
      "/root/.cache/pip/http/3/a/2/e/a/3a2eabca185442234d98ef8108baab333fb64620da82d3dcdd352e7a\n",
      "/root/.cache/pip/http/c/5/0/1/a/c501a4b4c0c9366adbe4ce14ddff5e8acbca3a43e8eb33505caba204\n",
      "/root/.cache/pip/http/c/1/b/f/d/c1bfdc2b058c76d19891bd039f2e9fde889520046aba2cd62ff91735\n",
      "/root/.cache/pip/http/c/1/f/f/e/c1ffeeb0ed8e6c09031648188bad28fb78da78923d7ab74c9a6d915f\n",
      "/root/.cache/pip/http/c/d/5/d/e/cd5de44b899cbe1869765c21b55cffc53c0c0ffa9d3c6f1fd40a42a2\n",
      "/root/.cache/pip/http/c/4/9/7/0/c4970e8c3d21acd12b322ecd78d1604b1dfbbbb2b7034af8be5cdec5\n",
      "/root/.cache/pip/http/c/9/d/d/4/c9dd458219980494b19d4cd2a20db2ca73b88e7356a23cd678f7b92b\n",
      "/root/.cache/pip/http/c/c/1/3/3/cc133da5701a066bc3777b2575e0daa601596f19871db4608ca98b97\n",
      "/root/.cache/pip/http/c/0/4/0/0/c0400f4849a16bb7ec1db13ba6d964327b0869995ab53c54f6668654\n",
      "/root/.cache/pip/http/7/a/a/a/c/7aaac13fe5febfa7b1e83708ebf355afb87f91ddd3cb10375062502f\n",
      "/root/.cache/pip/http/7/b/f/5/a/7bf5a9c6cd568109ba9b8180a0846234a84b3dc7b50b643c581952ac\n",
      "/root/.cache/pip/http/7/2/f/1/f/72f1f771cda8a846ab711ce310ec804b67362c366d502832718add13\n",
      "/root/.cache/pip/http/7/4/f/d/9/74fd9f11b6e332fccca1a4f17c6b1a9e62192381b291bf0d5244a09d\n",
      "/root/.cache/pip/http/7/3/8/5/6/738568413f555ac1cab947a1508554ac684058b02d328fd9821b9d90\n",
      "/root/.cache/pip/http/7/c/8/a/f/7c8afd15a0762282aac097c7266ebaa595beee79442f029f7322a69f\n",
      "/root/.cache/pip/http/0/2/d/a/1/02da19ae7d6367cf654e5c432230ea4fefacaf2bd8092f36e6f06299\n",
      "/root/.cache/pip/http/0/8/e/5/4/08e54b1ba309af11fa80393efe6859b7b3f074a70e8321df6c65e48e\n",
      "/root/.cache/pip/http/0/5/5/a/8/055a8012d0b2f393d60e3766c9aae6250083890dd29e765f388ae548\n",
      "/root/.cache/pip/http/0/f/d/a/3/0fda3a3d82dfc6036306c672820a86e195aa8032d5a4cc4250950e2b\n",
      "/root/.cache/pip/http/0/4/1/8/c/0418c83b80f7f7bfaec2738bfbbee53d2c1562196c0781702f6eddc8\n",
      "/root/.cache/pip/http/0/4/0/2/5/04025887b67977c149a0c335990c14ceeab1c1b572a9ff5b49cbb0ca\n",
      "/root/.cache/pip/http/0/3/c/3/0/03c303ae745e5126069146fbbccae127127850d6582408f2ab5d0ac4\n",
      "/root/.cache/pip/http/0/c/a/1/6/0ca166a3b97ee06e742422dc4e3fa472b81aea3e935275128ecddb47\n",
      "/root/.cache/matplotlib/fontList.json\n",
      "/root/nltk_data/tokenizers/punkt.zip\n",
      "/root/nltk_data/tokenizers/punkt/russian.pickle\n",
      "/root/nltk_data/tokenizers/punkt/swedish.pickle\n",
      "/root/nltk_data/tokenizers/punkt/portuguese.pickle\n",
      "/root/nltk_data/tokenizers/punkt/italian.pickle\n",
      "/root/nltk_data/tokenizers/punkt/english.pickle\n",
      "/root/nltk_data/tokenizers/punkt/polish.pickle\n",
      "/root/nltk_data/tokenizers/punkt/german.pickle\n",
      "/root/nltk_data/tokenizers/punkt/greek.pickle\n",
      "/root/nltk_data/tokenizers/punkt/README\n",
      "/root/nltk_data/tokenizers/punkt/estonian.pickle\n",
      "/root/nltk_data/tokenizers/punkt/slovene.pickle\n",
      "/root/nltk_data/tokenizers/punkt/spanish.pickle\n",
      "/root/nltk_data/tokenizers/punkt/norwegian.pickle\n",
      "/root/nltk_data/tokenizers/punkt/french.pickle\n",
      "/root/nltk_data/tokenizers/punkt/danish.pickle\n",
      "/root/nltk_data/tokenizers/punkt/czech.pickle\n",
      "/root/nltk_data/tokenizers/punkt/finnish.pickle\n",
      "/root/nltk_data/tokenizers/punkt/turkish.pickle\n",
      "/root/nltk_data/tokenizers/punkt/dutch.pickle\n",
      "/root/nltk_data/tokenizers/punkt/PY3/slovene.pickle\n",
      "/root/nltk_data/tokenizers/punkt/PY3/spanish.pickle\n",
      "/root/nltk_data/tokenizers/punkt/PY3/estonian.pickle\n",
      "/root/nltk_data/tokenizers/punkt/PY3/README\n",
      "/root/nltk_data/tokenizers/punkt/PY3/dutch.pickle\n",
      "/root/nltk_data/tokenizers/punkt/PY3/english.pickle\n",
      "/root/nltk_data/tokenizers/punkt/PY3/italian.pickle\n",
      "/root/nltk_data/tokenizers/punkt/PY3/czech.pickle\n",
      "/root/nltk_data/tokenizers/punkt/PY3/swedish.pickle\n",
      "/root/nltk_data/tokenizers/punkt/PY3/french.pickle\n",
      "/root/nltk_data/tokenizers/punkt/PY3/danish.pickle\n",
      "/root/nltk_data/tokenizers/punkt/PY3/russian.pickle\n",
      "/root/nltk_data/tokenizers/punkt/PY3/polish.pickle\n",
      "/root/nltk_data/tokenizers/punkt/PY3/portuguese.pickle\n",
      "/root/nltk_data/tokenizers/punkt/PY3/german.pickle\n",
      "/root/nltk_data/tokenizers/punkt/PY3/greek.pickle\n",
      "/root/nltk_data/tokenizers/punkt/PY3/norwegian.pickle\n",
      "/root/nltk_data/tokenizers/punkt/PY3/finnish.pickle\n",
      "/root/nltk_data/tokenizers/punkt/PY3/turkish.pickle\n",
      "/root/pan20-celebrity-profiling-training-dataset-2020-02-28/follower-feeds.ndjson\n",
      "/root/pan20-celebrity-profiling-training-dataset-2020-02-28/celebrity-feeds.ndjson\n",
      "/root/pan20-celebrity-profiling-training-dataset-2020-02-28/labels.ndjson\n",
      "/root/.jupyter/migrated\n"
     ]
    }
   ],
   "source": [
    "import os\n",
    "for dirname, _, filenames in os.walk('/root/'):\n",
    "    for filename in filenames:\n",
    "        print(os.path.join(dirname, filename))"
   ]
  },
  {
   "cell_type": "code",
   "execution_count": 2,
   "metadata": {},
   "outputs": [
    {
     "name": "stderr",
     "output_type": "stream",
     "text": [
      "/opt/conda/lib/python3.6/site-packages/sklearn/ensemble/weight_boosting.py:29: DeprecationWarning: numpy.core.umath_tests is an internal NumPy module and should not be imported. It will be removed in a future NumPy release.\n",
      "  from numpy.core.umath_tests import inner1d\n"
     ]
    }
   ],
   "source": [
    "from sklearn.feature_selection import chi2\n",
    "\n",
    "import argparse\n",
    "import pandas as pd\n",
    "import sys\n",
    "import numpy as np\n",
    "import pdb\n",
    "from sklearn.metrics import make_scorer, f1_score, accuracy_score, recall_score, precision_score, classification_report, precision_recall_fscore_support\n",
    "from sklearn.ensemble  import GradientBoostingClassifier, RandomForestClassifier\n",
    "from sklearn.model_selection import cross_val_score, cross_val_predict\n",
    "from sklearn.feature_extraction.text import TfidfVectorizer\n",
    "from sklearn.metrics import make_scorer, f1_score, accuracy_score, recall_score, precision_score, classification_report, precision_recall_fscore_support\n",
    "from sklearn.utils import shuffle\n",
    "from sklearn.ensemble  import GradientBoostingClassifier, RandomForestClassifier\n",
    "from sklearn.svm import SVC, LinearSVC\n",
    "from sklearn.model_selection import KFold\n",
    "from sklearn.linear_model import LogisticRegression\n",
    "from sklearn.utils import shuffle\n",
    "import codecs\n",
    "import operator\n",
    "import gensim, sklearn\n",
    "from collections import defaultdict\n",
    "from nltk.tokenize import TweetTokenizer\n"
   ]
  },
  {
   "cell_type": "code",
   "execution_count": 3,
   "metadata": {},
   "outputs": [],
   "source": [
    "import pandas as pd\n",
    "import numpy as np\n",
    "from scipy.stats import randint\n",
    "import seaborn as sns # used for plot interactive graph. \n",
    "import matplotlib.pyplot as plt\n",
    "import seaborn as sns\n",
    "from io import StringIO\n",
    "from sklearn.feature_extraction.text import TfidfVectorizer\n",
    "from sklearn.feature_selection import chi2\n",
    "from IPython.display import display\n",
    "from sklearn.model_selection import train_test_split\n",
    "from sklearn.feature_extraction.text import TfidfTransformer\n",
    "from sklearn.naive_bayes import MultinomialNB\n",
    "from sklearn.linear_model import LogisticRegression\n",
    "from sklearn.ensemble import RandomForestClassifier\n",
    "from sklearn.svm import LinearSVC\n",
    "from sklearn.model_selection import cross_val_score\n",
    "from sklearn.metrics import confusion_matrix\n",
    "from sklearn import metrics\n",
    "from sklearn.utils import resample"
   ]
  },
  {
   "cell_type": "code",
   "execution_count": 4,
   "metadata": {},
   "outputs": [],
   "source": [
    "TOKENIZER = TweetTokenizer().tokenize"
   ]
  },
  {
   "cell_type": "code",
   "execution_count": 5,
   "metadata": {},
   "outputs": [],
   "source": [
    "df=pd.read_csv(\"/root/celebrity_profiling_training_after_preprocessing_5_tweets_2.csv\") \n",
    "#df=pd.read_csv(\"/root/celebrity_profiling_training_after_preprocessing.csv\",usecols=['text','gender']) \n",
    "\n"
   ]
  },
  {
   "cell_type": "code",
   "execution_count": 6,
   "metadata": {},
   "outputs": [
    {
     "data": {
      "text/html": [
       "<div>\n",
       "<style scoped>\n",
       "    .dataframe tbody tr th:only-of-type {\n",
       "        vertical-align: middle;\n",
       "    }\n",
       "\n",
       "    .dataframe tbody tr th {\n",
       "        vertical-align: top;\n",
       "    }\n",
       "\n",
       "    .dataframe thead th {\n",
       "        text-align: right;\n",
       "    }\n",
       "</style>\n",
       "<table border=\"1\" class=\"dataframe\">\n",
       "  <thead>\n",
       "    <tr style=\"text-align: right;\">\n",
       "      <th></th>\n",
       "      <th>birthyear</th>\n",
       "      <th>gender</th>\n",
       "      <th>occupation</th>\n",
       "      <th>text</th>\n",
       "    </tr>\n",
       "  </thead>\n",
       "  <tbody>\n",
       "    <tr>\n",
       "      <th>0</th>\n",
       "      <td>0</td>\n",
       "      <td>1</td>\n",
       "      <td>1</td>\n",
       "      <td>i am in new zealand, an i must say there are a...</td>\n",
       "    </tr>\n",
       "    <tr>\n",
       "      <th>1</th>\n",
       "      <td>0</td>\n",
       "      <td>0</td>\n",
       "      <td>0</td>\n",
       "      <td>rt so a one piece highschool anime is coming o...</td>\n",
       "    </tr>\n",
       "    <tr>\n",
       "      <th>2</th>\n",
       "      <td>0</td>\n",
       "      <td>0</td>\n",
       "      <td>0</td>\n",
       "      <td>rt kobe bryant the conductor comercial da nike...</td>\n",
       "    </tr>\n",
       "    <tr>\n",
       "      <th>3</th>\n",
       "      <td>3</td>\n",
       "      <td>1</td>\n",
       "      <td>1</td>\n",
       "      <td>rt this is an embarrassing night for america. ...</td>\n",
       "    </tr>\n",
       "    <tr>\n",
       "      <th>4</th>\n",
       "      <td>1</td>\n",
       "      <td>1</td>\n",
       "      <td>3</td>\n",
       "      <td>legoncitiesfc head coach with the accra sports...</td>\n",
       "    </tr>\n",
       "  </tbody>\n",
       "</table>\n",
       "</div>"
      ],
      "text/plain": [
       "   birthyear  gender  occupation  \\\n",
       "0          0       1           1   \n",
       "1          0       0           0   \n",
       "2          0       0           0   \n",
       "3          3       1           1   \n",
       "4          1       1           3   \n",
       "\n",
       "                                                text  \n",
       "0  i am in new zealand, an i must say there are a...  \n",
       "1  rt so a one piece highschool anime is coming o...  \n",
       "2  rt kobe bryant the conductor comercial da nike...  \n",
       "3  rt this is an embarrassing night for america. ...  \n",
       "4  legoncitiesfc head coach with the accra sports...  "
      ]
     },
     "execution_count": 6,
     "metadata": {},
     "output_type": "execute_result"
    }
   ],
   "source": [
    "df.head()"
   ]
  },
  {
   "cell_type": "code",
   "execution_count": 7,
   "metadata": {},
   "outputs": [],
   "source": [
    "def ML_Model_func(df,label):    \n",
    "    min_label=min(df[label].value_counts().tolist())\n",
    "    Label_set=list(set(df[label]))\n",
    "\n",
    "    df_list=[]\n",
    "    df_list_reduce=[]\n",
    "    for i in Label_set:\n",
    "        df_list.append(df[df[label]==i])\n",
    "\n",
    "\n",
    "    for i in df_list:\n",
    "        df_list_reduce.append(resample(i, \n",
    "                                     replace=False,    # sample without replacement\n",
    "                                     n_samples=min_label,     # to match minority class\n",
    "                                     random_state=123)) # reproducible results\n",
    "\n",
    "    # Combine minority class with downsampled majority class\n",
    "    df_total = pd.concat(df_list_reduce)\n",
    "\n",
    "    # Display new class counts\n",
    "    print(df_total[label].value_counts())\n",
    "    df=df_total\n",
    "    df=df.sample(frac=1).reset_index(drop=True)\n",
    "    df=df.dropna()\n",
    "    \n",
    "    tweets=df.text.tolist()\n",
    "    labels = df[label].tolist()\n",
    "    Y=[]\n",
    "    label0=[]\n",
    "    for i in range(len(tweets)):\n",
    "        Y.append(str(tweets[i]))\n",
    "        label0.append(int(labels[i]))\n",
    "\n",
    "    tfidf = TfidfVectorizer(sublinear_tf=True, min_df=3,max_features=10000, analyzer='word',ngram_range=(1, 2), stop_words='english')\n",
    "\n",
    "    # We transform each complaint into a vector\n",
    "    features = tfidf.fit_transform(Y)\n",
    "    #np.asarray()\n",
    "\n",
    "\n",
    "    print(\"Each of the %d complaints is represented by %d features (TF-IDF score of unigrams and bigrams)\" %(features.shape))\n",
    "\n",
    "    models = [\n",
    "        RandomForestClassifier(n_estimators=100, max_depth=5, random_state=0),\n",
    "        #GradientBoostingClassifier(n_estimators=100, max_depth=5, random_state=0),\n",
    "        LinearSVC(),\n",
    "        MultinomialNB(),\n",
    "        LogisticRegression(multi_class='multinomial', solver=\"newton-cg\"),\n",
    "    ]\n",
    "\n",
    "    # 5 Cross-validation\n",
    "    CV = 5\n",
    "    cv_df = pd.DataFrame(index=range(CV * len(models)))\n",
    "\n",
    "    entries = []\n",
    "    for model in models:\n",
    "        model_name = model.__class__.__name__\n",
    "        accuracies = cross_val_score(model, features, label0, scoring='f1_weighted', cv=CV)\n",
    "        for fold_idx, accuracy in enumerate(accuracies):\n",
    "            entries.append((model_name, fold_idx, accuracy))\n",
    "\n",
    "    cv_df = pd.DataFrame(entries, columns=['model_name', 'fold_idx', 'f1_weighted'])\n",
    "\n",
    "\n",
    "    mean_f1 = cv_df.groupby('model_name').f1_weighted.mean()\n",
    "    std_f1 = cv_df.groupby('model_name').f1_weighted.std()\n",
    "\n",
    "    acc = pd.concat([mean_f1, std_f1], axis= 1, \n",
    "              ignore_index=True)\n",
    "    acc.columns = ['Mean f1', 'Standard deviation']\n",
    "    print(acc)"
   ]
  },
  {
   "cell_type": "code",
   "execution_count": 8,
   "metadata": {},
   "outputs": [],
   "source": [
    "df=pd.read_csv(\"/root/celebrity_profiling_training_after_preprocessing_5_tweets_2.csv\") \n"
   ]
  },
  {
   "cell_type": "code",
   "execution_count": 9,
   "metadata": {},
   "outputs": [
    {
     "name": "stdout",
     "output_type": "stream",
     "text": [
      "1    191626\n",
      "0    191626\n",
      "Name: gender, dtype: int64\n",
      "Each of the 383252 complaints is represented by 10000 features (TF-IDF score of unigrams and bigrams)\n",
      "                         Mean f1  Standard deviation\n",
      "model_name                                          \n",
      "LinearSVC               0.562848            0.001589\n",
      "LogisticRegression      0.563118            0.002032\n",
      "MultinomialNB           0.562294            0.001347\n",
      "RandomForestClassifier  0.519747            0.004653\n"
     ]
    }
   ],
   "source": [
    "ML_Model_func(df,\"gender\")"
   ]
  },
  {
   "cell_type": "code",
   "execution_count": 10,
   "metadata": {},
   "outputs": [],
   "source": [
    "df=pd.read_csv(\"/root/celebrity_profiling_training_after_preprocessing_5_tweets_2.csv\") \n"
   ]
  },
  {
   "cell_type": "code",
   "execution_count": 11,
   "metadata": {},
   "outputs": [
    {
     "name": "stdout",
     "output_type": "stream",
     "text": [
      "3    55797\n",
      "2    55797\n",
      "1    55797\n",
      "0    55797\n",
      "Name: occupation, dtype: int64\n",
      "Each of the 223188 complaints is represented by 10000 features (TF-IDF score of unigrams and bigrams)\n",
      "                         Mean f1  Standard deviation\n",
      "model_name                                          \n",
      "LinearSVC               0.405073            0.003243\n",
      "LogisticRegression      0.407459            0.002616\n",
      "MultinomialNB           0.400455            0.002055\n",
      "RandomForestClassifier  0.309596            0.006565\n"
     ]
    }
   ],
   "source": [
    "ML_Model_func(df,\"occupation\")"
   ]
  },
  {
   "cell_type": "code",
   "execution_count": 12,
   "metadata": {},
   "outputs": [],
   "source": [
    "df=pd.read_csv(\"/root/celebrity_profiling_training_after_preprocessing_5_tweets_2.csv\") \n"
   ]
  },
  {
   "cell_type": "code",
   "execution_count": 13,
   "metadata": {},
   "outputs": [
    {
     "name": "stdout",
     "output_type": "stream",
     "text": [
      "4    43012\n",
      "3    43012\n",
      "2    43012\n",
      "1    43012\n",
      "0    43012\n",
      "Name: birthyear, dtype: int64\n",
      "Each of the 215060 complaints is represented by 10000 features (TF-IDF score of unigrams and bigrams)\n",
      "                         Mean f1  Standard deviation\n",
      "model_name                                          \n",
      "LinearSVC               0.270562            0.001214\n",
      "LogisticRegression      0.273701            0.000528\n",
      "MultinomialNB           0.270436            0.001008\n",
      "RandomForestClassifier  0.222645            0.008758\n"
     ]
    }
   ],
   "source": [
    "ML_Model_func(df,\"birthyear\")"
   ]
  },
  {
   "cell_type": "code",
   "execution_count": null,
   "metadata": {},
   "outputs": [],
   "source": [
    "\n",
    "df['occupation'].value_counts()"
   ]
  },
  {
   "cell_type": "code",
   "execution_count": null,
   "metadata": {},
   "outputs": [],
   "source": [
    "df_majority = df[df.occupation==1]\n",
    "df_majority2 = df[df.occupation==0]\n",
    "df_minority = df[df.occupation==2]\n",
    "df_majority3 = df[df.occupation==3]\n",
    "\n"
   ]
  },
  {
   "cell_type": "code",
   "execution_count": null,
   "metadata": {},
   "outputs": [],
   "source": [
    "# Downsample majority class\n",
    "df_majority_downsampled = resample(df_majority, \n",
    "                                 replace=False,    # sample without replacement\n",
    "                                 n_samples=55797,     # to match minority class\n",
    "                                 random_state=123) # reproducible results"
   ]
  },
  {
   "cell_type": "code",
   "execution_count": null,
   "metadata": {},
   "outputs": [],
   "source": [
    "# Downsample majority class\n",
    "df_majority_downsampled2 = resample(df_majority2, \n",
    "                                 replace=False,    # sample without replacement\n",
    "                                 n_samples=55797,     # to match minority class\n",
    "                                 random_state=123) # reproducible results"
   ]
  },
  {
   "cell_type": "code",
   "execution_count": null,
   "metadata": {},
   "outputs": [],
   "source": [
    "# Downsample majority class\n",
    "df_majority_downsampled3 = resample(df_majority3, \n",
    "                                 replace=False,    # sample without replacement\n",
    "                                 n_samples=55797,     # to match minority class\n",
    "                                 random_state=123) # reproducible results"
   ]
  },
  {
   "cell_type": "code",
   "execution_count": null,
   "metadata": {},
   "outputs": [],
   "source": [
    "# Combine minority class with downsampled majority class\n",
    "df_downsampled = pd.concat([df_majority_downsampled,df_majority_downsampled2,df_majority_downsampled3, df_minority])\n",
    " \n",
    "# Display new class counts\n",
    "df_downsampled.occupation.value_counts()"
   ]
  },
  {
   "cell_type": "code",
   "execution_count": null,
   "metadata": {},
   "outputs": [],
   "source": [
    "df=df_downsampled"
   ]
  },
  {
   "cell_type": "code",
   "execution_count": null,
   "metadata": {},
   "outputs": [],
   "source": [
    "df=df.sample(frac=1).reset_index(drop=True)"
   ]
  },
  {
   "cell_type": "code",
   "execution_count": null,
   "metadata": {},
   "outputs": [],
   "source": [
    "df=df.dropna()"
   ]
  },
  {
   "cell_type": "code",
   "execution_count": null,
   "metadata": {},
   "outputs": [],
   "source": [
    "tweets=df.text.tolist()"
   ]
  },
  {
   "cell_type": "code",
   "execution_count": null,
   "metadata": {},
   "outputs": [],
   "source": [
    "\n",
    "#labels = df.occupation.tolist()\n",
    "labels = df.occupation.tolist()\n"
   ]
  },
  {
   "cell_type": "code",
   "execution_count": null,
   "metadata": {},
   "outputs": [],
   "source": [
    "labels[:10]"
   ]
  },
  {
   "cell_type": "code",
   "execution_count": null,
   "metadata": {},
   "outputs": [],
   "source": [
    "text=[]\n",
    "Y=[]\n",
    "label0=[]\n",
    "for i in range(len(tweets)):\n",
    "    Y.append(str(tweets[i]))\n",
    "    label0.append(int(labels[i]))\n"
   ]
  },
  {
   "cell_type": "code",
   "execution_count": null,
   "metadata": {},
   "outputs": [],
   "source": [
    "tfidf = TfidfVectorizer(sublinear_tf=True, min_df=3,max_features=10000, analyzer='word',ngram_range=(1, 2), stop_words='english')\n",
    "\n",
    "# We transform each complaint into a vector\n",
    "features = tfidf.fit_transform(Y)\n",
    "#np.asarray()\n",
    "\n",
    "\n",
    "print(\"Each of the %d complaints is represented by %d features (TF-IDF score of unigrams and bigrams)\" %(features.shape))"
   ]
  },
  {
   "cell_type": "code",
   "execution_count": null,
   "metadata": {},
   "outputs": [],
   "source": [
    "type(features)"
   ]
  },
  {
   "cell_type": "markdown",
   "metadata": {},
   "source": [
    "category_to_id = dict(df.values)\n",
    "#id_to_category = dict(df[['text','gender']].values)\n",
    "id_to_category = dict(df[['text','occupation']].values)"
   ]
  },
  {
   "cell_type": "markdown",
   "metadata": {},
   "source": [
    "N = 3\n",
    "for Product, category_id in sorted(category_to_id.items()):\n",
    "    features_chi2 = chi2(features, labels == category_id)\n",
    "    indices = np.argsort(features_chi2[0])\n",
    "    feature_names = np.array(tfidf.get_feature_names())[indices]\n",
    "    unigrams = [v for v in feature_names if len(v.split(' ')) == 1]\n",
    "    bigrams = [v for v in feature_names if len(v.split(' ')) == 2]\n",
    "    print(\"\\n==> %s:\" %(Product))\n",
    "    print(\"  * Most Correlated Unigrams are: %s\" %(', '.join(unigrams[-N:])))\n",
    "    print(\"  * Most Correlated Bigrams are: %s\" %(', '.join(bigrams[-N:])))"
   ]
  },
  {
   "cell_type": "code",
   "execution_count": null,
   "metadata": {},
   "outputs": [],
   "source": [
    "models = [\n",
    "    RandomForestClassifier(n_estimators=100, max_depth=5, random_state=0),\n",
    "    #GradientBoostingClassifier(n_estimators=100, max_depth=5, random_state=0),\n",
    "    LinearSVC(),\n",
    "    MultinomialNB(),\n",
    "    LogisticRegression(multi_class='multinomial', solver=\"newton-cg\"),\n",
    "]\n",
    "\n",
    "# 5 Cross-validation\n",
    "CV = 5\n",
    "cv_df = pd.DataFrame(index=range(CV * len(models)))\n",
    "\n",
    "entries = []\n",
    "for model in models:\n",
    "    model_name = model.__class__.__name__\n",
    "    accuracies = cross_val_score(model, features, label0, scoring='f1_weighted', cv=CV)\n",
    "    for fold_idx, accuracy in enumerate(accuracies):\n",
    "        entries.append((model_name, fold_idx, accuracy))\n",
    "    \n",
    "cv_df = pd.DataFrame(entries, columns=['model_name', 'fold_idx', 'f1_weighted'])"
   ]
  },
  {
   "cell_type": "code",
   "execution_count": null,
   "metadata": {},
   "outputs": [],
   "source": [
    "mean_f1 = cv_df.groupby('model_name').f1_weighted.mean()\n",
    "std_f1 = cv_df.groupby('model_name').f1_weighted.std()\n",
    "\n",
    "acc = pd.concat([mean_f1, std_f1], axis= 1, \n",
    "          ignore_index=True)\n",
    "acc.columns = ['Mean f1', 'Standard deviation']\n",
    "acc"
   ]
  },
  {
   "cell_type": "code",
   "execution_count": null,
   "metadata": {},
   "outputs": [],
   "source": [
    "print(\"Next\")"
   ]
  },
  {
   "cell_type": "code",
   "execution_count": null,
   "metadata": {},
   "outputs": [],
   "source": []
  },
  {
   "cell_type": "code",
   "execution_count": null,
   "metadata": {},
   "outputs": [],
   "source": [
    "X_train, X_test,Y_train,Y_test= train_test_split(features, label0, test_size=0.3, random_state=42)"
   ]
  },
  {
   "cell_type": "code",
   "execution_count": null,
   "metadata": {},
   "outputs": [],
   "source": [
    "LogisticRegression_model = LogisticRegression(multi_class='multinomial', solver=\"newton-cg\")\n",
    "LogisticRegression_model.fit(X_train, Y_train)"
   ]
  },
  {
   "cell_type": "code",
   "execution_count": null,
   "metadata": {},
   "outputs": [],
   "source": [
    "Y_pred = LogisticRegression_model.predict(features)\n"
   ]
  },
  {
   "cell_type": "code",
   "execution_count": null,
   "metadata": {},
   "outputs": [],
   "source": []
  }
 ],
 "metadata": {
  "kernelspec": {
   "display_name": "Python 3",
   "language": "python",
   "name": "python3"
  },
  "language_info": {
   "codemirror_mode": {
    "name": "ipython",
    "version": 3
   },
   "file_extension": ".py",
   "mimetype": "text/x-python",
   "name": "python",
   "nbconvert_exporter": "python",
   "pygments_lexer": "ipython3",
   "version": "3.6.4"
  }
 },
 "nbformat": 4,
 "nbformat_minor": 4
}
