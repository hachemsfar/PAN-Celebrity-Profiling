{
 "cells": [
  {
   "cell_type": "code",
   "execution_count": 1,
   "metadata": {},
   "outputs": [],
   "source": [
    "import numpy as np # linear algebra\n",
    "import pandas as pd # data processing, CSV file I/O (e.g. pd.read_csv)\n",
    "from zipfile import ZipFile\n",
    "import ndjson\n"
   ]
  },
  {
   "cell_type": "code",
   "execution_count": 2,
   "metadata": {},
   "outputs": [],
   "source": [
    "\n",
    "# load from file-like objects\n",
    "with open(\"/root/pan20-celebrity-profiling-training-dataset-2020-02-28/follower-feeds.ndjson\") as f:\n",
    "    data1 = ndjson.load(f)\n"
   ]
  },
  {
   "cell_type": "code",
   "execution_count": 3,
   "metadata": {},
   "outputs": [],
   "source": [
    "tweets=data1"
   ]
  },
  {
   "cell_type": "code",
   "execution_count": 4,
   "metadata": {},
   "outputs": [],
   "source": [
    "# load from file-like objects\n",
    "with open('/root/pan20-celebrity-profiling-training-dataset-2020-02-28/labels.ndjson') as f:\n",
    "    data1 = ndjson.load(f)\n",
    "    \n"
   ]
  },
  {
   "cell_type": "code",
   "execution_count": 5,
   "metadata": {},
   "outputs": [],
   "source": [
    "labels=data1"
   ]
  },
  {
   "cell_type": "markdown",
   "metadata": {},
   "source": [
    "tweet=[]\n",
    "birthyear=[]\n",
    "gender=[]\n",
    "occupation=[]\n",
    "ids=[]\n",
    "for i in range(len(tweets)):\n",
    "    for k in range(len(tweets[i][\"text\"])):\n",
    "        for j in range(len(tweets[i][\"text\"][k])):\n",
    "            tweet.append(tweets[i][\"text\"][k][j])\n",
    "            birthyear.append(labels[i]['birthyear'])\n",
    "            gender.append(labels[i]['gender'])\n",
    "            occupation.append(labels[i]['occupation'])\n",
    "            ids.append(labels[i]['id'])"
   ]
  },
  {
   "cell_type": "markdown",
   "metadata": {},
   "source": [
    "celebrity = {\n",
    "    'id':ids,\n",
    "    'text': tweet,\n",
    "        'birthyear': birthyear,\n",
    "         'gender':gender,\n",
    "           'occupation':occupation\n",
    "        }\n",
    "\n",
    "\n",
    "df = pd.DataFrame(celebrity)"
   ]
  },
  {
   "cell_type": "markdown",
   "metadata": {},
   "source": [
    "df.to_csv(\"celebrity_profiling_training-dataset_full.csv\")"
   ]
  },
  {
   "cell_type": "code",
   "execution_count": 6,
   "metadata": {},
   "outputs": [],
   "source": [
    "tweet=[]\n",
    "birthyear=[]\n",
    "gender=[]\n",
    "occupation=[]\n",
    "ids=[]\n",
    "for i in range(len(tweets)):\n",
    "    for k in range(len(tweets[i][\"text\"])):\n",
    "        for j in range(5):\n",
    "            tweet.append(tweets[i][\"text\"][k][j])\n",
    "            birthyear.append(labels[i]['birthyear'])\n",
    "            gender.append(labels[i]['gender'])\n",
    "            occupation.append(labels[i]['occupation'])\n",
    "            ids.append(labels[i]['id'])"
   ]
  },
  {
   "cell_type": "code",
   "execution_count": 7,
   "metadata": {},
   "outputs": [],
   "source": [
    "celebrity = {\n",
    "    'id':ids,\n",
    "    'text': tweet,\n",
    "        'birthyear': birthyear,\n",
    "         'gender':gender,\n",
    "           'occupation':occupation\n",
    "        }\n",
    "\n",
    "\n",
    "df = pd.DataFrame(celebrity)"
   ]
  },
  {
   "cell_type": "code",
   "execution_count": 8,
   "metadata": {},
   "outputs": [],
   "source": [
    "df.to_csv(\"celebrity_profiling_training-dataset_subset_5_tweets.csv\")"
   ]
  },
  {
   "cell_type": "code",
   "execution_count": 9,
   "metadata": {},
   "outputs": [
    {
     "data": {
      "text/plain": [
       "(664035, 5)"
      ]
     },
     "execution_count": 9,
     "metadata": {},
     "output_type": "execute_result"
    }
   ],
   "source": [
    "df.shape"
   ]
  },
  {
   "cell_type": "code",
   "execution_count": null,
   "metadata": {},
   "outputs": [],
   "source": [
    "import os\n",
    "for dirname, _, filenames in os.walk('/root'):\n",
    "    for filename in filenames:\n",
    "        print(os.path.join(dirname, filename))"
   ]
  },
  {
   "cell_type": "code",
   "execution_count": null,
   "metadata": {},
   "outputs": [],
   "source": [
    "with open('/root/pan20-celebrity-profiling-supplement-dataset-2020-02-28/labels.ndjson') as f:\n",
    "    data1 = ndjson.load(f) "
   ]
  },
  {
   "cell_type": "code",
   "execution_count": null,
   "metadata": {},
   "outputs": [],
   "source": [
    "labels=data1"
   ]
  },
  {
   "cell_type": "code",
   "execution_count": null,
   "metadata": {},
   "outputs": [],
   "source": [
    "with open('/root/pan20-celebrity-profiling-supplement-dataset-2020-02-28/follower-feeds.ndjson') as f:\n",
    "    data1 = ndjson.load(f)"
   ]
  },
  {
   "cell_type": "code",
   "execution_count": null,
   "metadata": {},
   "outputs": [],
   "source": [
    "tweets=data1"
   ]
  },
  {
   "cell_type": "markdown",
   "metadata": {},
   "source": [
    "tweet=[]\n",
    "birthyear=[]\n",
    "gender=[]\n",
    "occupation=[]\n",
    "ids=[]\n",
    "for i in range(len(tweets)):\n",
    "    for k in range(len(tweets[i][\"text\"])):\n",
    "        for j in range(len(tweets[i][\"text\"][k])):\n",
    "            tweet.append(tweets[i][\"text\"][k][j])\n",
    "            birthyear.append(labels[i]['birthyear'])\n",
    "            gender.append(labels[i]['gender'])\n",
    "            occupation.append(labels[i]['occupation'])\n",
    "            ids.append(labels[i]['id'])"
   ]
  },
  {
   "cell_type": "markdown",
   "metadata": {},
   "source": [
    "celebrity = {\n",
    "    'id':ids,\n",
    "    'text': tweet,\n",
    "        'birthyear': birthyear,\n",
    "         'gender':gender,\n",
    "           'occupation':occupation\n",
    "        }\n",
    "\n",
    "\n",
    "df = pd.DataFrame(celebrity)"
   ]
  },
  {
   "cell_type": "markdown",
   "metadata": {},
   "source": [
    "df.to_csv(\"celebrity_profiling_supplement-dataset_full.csv\")"
   ]
  },
  {
   "cell_type": "code",
   "execution_count": null,
   "metadata": {},
   "outputs": [],
   "source": [
    "tweet=[]\n",
    "birthyear=[]\n",
    "gender=[]\n",
    "occupation=[]\n",
    "ids=[]\n",
    "for i in range(len(tweets)):\n",
    "    for k in range(len(tweets[i][\"text\"])):\n",
    "        tweet.append(tweets[i][\"text\"][k][0])\n",
    "        birthyear.append(labels[i]['birthyear'])\n",
    "        gender.append(labels[i]['gender'])\n",
    "        occupation.append(labels[i]['occupation'])\n",
    "        ids.append(labels[i]['id'])"
   ]
  },
  {
   "cell_type": "code",
   "execution_count": null,
   "metadata": {},
   "outputs": [],
   "source": [
    "celebrity = {\n",
    "    'id':ids,\n",
    "    'text': tweet,\n",
    "        'birthyear': birthyear,\n",
    "         'gender':gender,\n",
    "           'occupation':occupation\n",
    "        }\n",
    "\n",
    "\n",
    "df = pd.DataFrame(celebrity)"
   ]
  },
  {
   "cell_type": "code",
   "execution_count": null,
   "metadata": {},
   "outputs": [],
   "source": [
    "df.to_csv(\"celebrity_profiling_supplement-dataset_subset_2.csv\")"
   ]
  },
  {
   "cell_type": "code",
   "execution_count": null,
   "metadata": {},
   "outputs": [],
   "source": []
  }
 ],
 "metadata": {
  "kernelspec": {
   "display_name": "Python 3",
   "language": "python",
   "name": "python3"
  },
  "language_info": {
   "codemirror_mode": {
    "name": "ipython",
    "version": 3
   },
   "file_extension": ".py",
   "mimetype": "text/x-python",
   "name": "python",
   "nbconvert_exporter": "python",
   "pygments_lexer": "ipython3",
   "version": "3.6.4"
  }
 },
 "nbformat": 4,
 "nbformat_minor": 2
}
